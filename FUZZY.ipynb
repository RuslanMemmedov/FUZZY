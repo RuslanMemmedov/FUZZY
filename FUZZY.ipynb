{
 "cells": [
  {
   "cell_type": "code",
   "execution_count": 1,
   "id": "257d57eb",
   "metadata": {},
   "outputs": [],
   "source": [
    "import numpy as np\n",
    "import skfuzzy as fuzz\n",
    "from skfuzzy import control as ctrl"
   ]
  },
  {
   "cell_type": "markdown",
   "id": "671ef209",
   "metadata": {},
   "source": [
    "# Create Input and Output Variables\n",
    "\n",
    "Define the input and output variables for the FIS. In this case, we have three variables: `room temperature`, `user comfort`, and `thermostat setting`."
   ]
  },
  {
   "cell_type": "code",
   "execution_count": 2,
   "id": "501b8115",
   "metadata": {},
   "outputs": [],
   "source": [
    "\n",
    "# Create input variables\n",
    "room_temperature = ctrl.Antecedent(np.arange(0, 101, 1), 'room_temperature')\n",
    "user_comfort = ctrl.Antecedent(np.arange(0, 1.1, 0.1), 'user_comfort')\n",
    "thermostat_setting = ctrl.Consequent(np.arange(0, 101, 1), 'thermostat_setting')\n"
   ]
  },
  {
   "cell_type": "markdown",
   "id": "375c0c94",
   "metadata": {},
   "source": [
    "# Define Membership Functions\n",
    "\n",
    "Create membership functions for each variable to represent how each variable relates to different fuzzy categories ( `Cold`,`Comfortable`,`Low Heat`).\n",
    "python\n"
   ]
  },
  {
   "cell_type": "code",
   "execution_count": 3,
   "id": "0016b833",
   "metadata": {},
   "outputs": [],
   "source": [
    "\n",
    "# Define membership functions for input variables\n",
    "room_temperature['cold'] = fuzz.trimf(room_temperature.universe, [0, 0, 50])\n",
    "room_temperature['moderate'] = fuzz.trimf(room_temperature.universe, [40, 50, 60])\n",
    "room_temperature['warm'] = fuzz.trimf(room_temperature.universe, [50, 100, 100])\n",
    "\n",
    "user_comfort['cold'] = fuzz.trimf(user_comfort.universe, [0, 0, 0.5])\n",
    "user_comfort['comfortable'] = fuzz.trimf(user_comfort.universe, [0.4, 0.5, 0.6])\n",
    "user_comfort['warm'] = fuzz.trimf(user_comfort.universe, [0.5, 1, 1])\n"
   ]
  },
  {
   "cell_type": "code",
   "execution_count": 4,
   "id": "b39328ca",
   "metadata": {},
   "outputs": [],
   "source": [
    "\n",
    "# Define membership functions for output variable\n",
    "thermostat_setting['low_heat'] = fuzz.trimf(thermostat_setting.universe, [0, 0, 50])\n",
    "thermostat_setting['moderate_heat'] = fuzz.trimf(thermostat_setting.universe, [40, 50, 60])\n",
    "thermostat_setting['high_heat'] = fuzz.trimf(thermostat_setting.universe, [50, 100, 100])\n"
   ]
  },
  {
   "cell_type": "markdown",
   "id": "6fc7bfb4",
   "metadata": {},
   "source": [
    "# Create Fuzzy Rules\n",
    "\n",
    "Define rules that describe how the inputs relate to the output. For example, if the room temperature is `Moderate` and `user comfort` is `Comfortable`, then the `thermostat setting` is `Moderate Heat`"
   ]
  },
  {
   "cell_type": "code",
   "execution_count": 5,
   "id": "99bc04f4",
   "metadata": {},
   "outputs": [],
   "source": [
    "\n",
    "# Define rules\n",
    "rule1 = ctrl.Rule(room_temperature['cold'] & user_comfort['cold'], thermostat_setting['high_heat'])\n",
    "rule2 = ctrl.Rule(room_temperature['moderate'] & user_comfort['comfortable'], thermostat_setting['moderate_heat'])\n",
    "rule3 = ctrl.Rule(room_temperature['warm'] & user_comfort['warm'], thermostat_setting['low_heat'])\n"
   ]
  },
  {
   "cell_type": "markdown",
   "id": "f6d8aaa0",
   "metadata": {},
   "source": [
    "# Create the FIS \n",
    "\n",
    "Build the Fuzzy Inference System by combining the rules."
   ]
  },
  {
   "cell_type": "code",
   "execution_count": 6,
   "id": "e6d4fb40",
   "metadata": {},
   "outputs": [],
   "source": [
    "thermostat_ctrl = ctrl.ControlSystem([rule1, rule2, rule3])"
   ]
  },
  {
   "cell_type": "markdown",
   "id": "1bae356b",
   "metadata": {},
   "source": [
    "# Create a Simulation\n",
    "\n",
    "Set up a simulation to evaluate the FIS with specific input values."
   ]
  },
  {
   "cell_type": "code",
   "execution_count": 7,
   "id": "350c56fe",
   "metadata": {},
   "outputs": [],
   "source": [
    "thermostat_sim = ctrl.ControlSystemSimulation(thermostat_ctrl)"
   ]
  },
  {
   "cell_type": "markdown",
   "id": "b021d427",
   "metadata": {},
   "source": [
    "# Input Values\n",
    "Provide input values for room temperature and user comfort"
   ]
  },
  {
   "cell_type": "code",
   "execution_count": 8,
   "id": "5fca7b6f",
   "metadata": {},
   "outputs": [],
   "source": [
    "\n",
    "# Input values\n",
    "thermostat_sim.input['room_temperature'] = 65 \n",
    "thermostat_sim.input['user_comfort'] = 0.6 "
   ]
  },
  {
   "cell_type": "markdown",
   "id": "2d0c5b9e",
   "metadata": {},
   "source": [
    "# Compute the Result\n",
    "Compute the recommended thermostat setting based on the input values and the fuzzy logic rules."
   ]
  },
  {
   "cell_type": "code",
   "execution_count": 9,
   "id": "152c4dcf",
   "metadata": {},
   "outputs": [
    {
     "name": "stdout",
     "output_type": "stream",
     "text": [
      "Recommended Thermostat Setting: 22.592592592592588 °F\n"
     ]
    }
   ],
   "source": [
    "# Compute the result\n",
    "thermostat_sim.compute()\n",
    "\n",
    "# Get the recommended thermostat setting\n",
    "recommended_setting = thermostat_sim.output['thermostat_setting']\n",
    "\n",
    "print(\"Recommended Thermostat Setting:\", recommended_setting, \"°F\")"
   ]
  },
  {
   "cell_type": "markdown",
   "id": "ff05ebd4",
   "metadata": {},
   "source": [
    "---"
   ]
  }
 ],
 "metadata": {
  "kernelspec": {
   "display_name": "Python 3 (ipykernel)",
   "language": "python",
   "name": "python3"
  },
  "language_info": {
   "codemirror_mode": {
    "name": "ipython",
    "version": 3
   },
   "file_extension": ".py",
   "mimetype": "text/x-python",
   "name": "python",
   "nbconvert_exporter": "python",
   "pygments_lexer": "ipython3",
   "version": "3.9.12"
  }
 },
 "nbformat": 4,
 "nbformat_minor": 5
}
